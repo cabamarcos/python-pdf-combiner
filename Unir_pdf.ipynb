{
  "nbformat": 4,
  "nbformat_minor": 0,
  "metadata": {
    "colab": {
      "provenance": [],
      "authorship_tag": "ABX9TyMPCGCkMkSILSZGOw8vt/c4",
      "include_colab_link": true
    },
    "kernelspec": {
      "name": "python3",
      "display_name": "Python 3"
    },
    "language_info": {
      "name": "python"
    }
  },
  "cells": [
    {
      "cell_type": "markdown",
      "metadata": {
        "id": "view-in-github",
        "colab_type": "text"
      },
      "source": [
        "<a href=\"https://colab.research.google.com/github/cabamarcos/python-pdf-combiner/blob/main/Unir_pdf.ipynb\" target=\"_parent\"><img src=\"https://colab.research.google.com/assets/colab-badge.svg\" alt=\"Open In Colab\"/></a>"
      ]
    },
    {
      "cell_type": "code",
      "source": [
        "!pip install PyPDF2\n"
      ],
      "metadata": {
        "colab": {
          "base_uri": "https://localhost:8080/"
        },
        "id": "iWOTfsqWB591",
        "outputId": "b21ef54b-03e2-4faf-80c9-5e054d3eb6f4"
      },
      "execution_count": 2,
      "outputs": [
        {
          "output_type": "stream",
          "name": "stdout",
          "text": [
            "Collecting PyPDF2\n",
            "  Downloading pypdf2-3.0.1-py3-none-any.whl (232 kB)\n",
            "\u001b[?25l     \u001b[90m━━━━━━━━━━━━━━━━━━━━━━━━━━━━━━━━━━━━━━━━\u001b[0m \u001b[32m0.0/232.6 kB\u001b[0m \u001b[31m?\u001b[0m eta \u001b[36m-:--:--\u001b[0m\r\u001b[2K     \u001b[91m━━━━━━━━━━━━━━━━━━━━━━━━━━━━━\u001b[0m\u001b[91m╸\u001b[0m\u001b[90m━━━━━━━━━━\u001b[0m \u001b[32m174.1/232.6 kB\u001b[0m \u001b[31m5.1 MB/s\u001b[0m eta \u001b[36m0:00:01\u001b[0m\r\u001b[2K     \u001b[90m━━━━━━━━━━━━━━━━━━━━━━━━━━━━━━━━━━━━━━━━\u001b[0m \u001b[32m232.6/232.6 kB\u001b[0m \u001b[31m4.9 MB/s\u001b[0m eta \u001b[36m0:00:00\u001b[0m\n",
            "\u001b[?25hInstalling collected packages: PyPDF2\n",
            "Successfully installed PyPDF2-3.0.1\n"
          ]
        }
      ]
    },
    {
      "cell_type": "code",
      "execution_count": 10,
      "metadata": {
        "id": "iEf2Rx57BRfW"
      },
      "outputs": [],
      "source": [
        "import PyPDF2\n",
        "\n",
        "def combinar_pdfs(archivo1, archivo2, archivo_salida):\n",
        "    # Abre los archivos PDF en modo de lectura\n",
        "    with open(archivo1, 'rb') as file1, open(archivo2, 'rb') as file2:\n",
        "        # Crea objetos PdfReader\n",
        "        pdf_reader1 = PyPDF2.PdfReader(file1)\n",
        "        pdf_reader2 = PyPDF2.PdfReader(file2)\n",
        "\n",
        "        # Crea un objeto PdfWriter para escribir el PDF combinado\n",
        "        pdf_writer = PyPDF2.PdfWriter()\n",
        "\n",
        "        # Agrega las páginas del primer archivo\n",
        "        for page_num in range(len(pdf_reader1.pages)):\n",
        "            pdf_writer.add_page(pdf_reader1.pages[page_num])\n",
        "\n",
        "        # Agrega las páginas del segundo archivo\n",
        "        for page_num in range(len(pdf_reader2.pages)):\n",
        "            pdf_writer.add_page(pdf_reader2.pages[page_num])\n",
        "\n",
        "        # Guarda el PDF combinado en el archivo de salida\n",
        "        with open(archivo_salida, 'wb') as output_file:\n",
        "            pdf_writer.write(output_file)\n",
        "\n",
        "# Uso del método\n",
        "archivo1 = 'pdf1.pdf'\n",
        "archivo2 = 'pdf2.pdf'\n",
        "archivo_salida = 'Documento.pdf'\n",
        "\n",
        "combinar_pdfs(archivo1, archivo2, archivo_salida)"
      ]
    }
  ]
}